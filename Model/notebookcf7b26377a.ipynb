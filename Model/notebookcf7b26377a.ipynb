{
 "cells": [
  {
   "cell_type": "code",
   "execution_count": 1,
   "id": "8086759b",
   "metadata": {
    "_cell_guid": "b1076dfc-b9ad-4769-8c92-a6c4dae69d19",
    "_uuid": "8f2839f25d086af736a60e9eeb907d3b93b6e0e5",
    "execution": {
     "iopub.execute_input": "2024-12-02T20:57:02.758992Z",
     "iopub.status.busy": "2024-12-02T20:57:02.758575Z",
     "iopub.status.idle": "2024-12-02T20:57:03.870935Z",
     "shell.execute_reply": "2024-12-02T20:57:03.869498Z"
    },
    "papermill": {
     "duration": 1.123307,
     "end_time": "2024-12-02T20:57:03.872671",
     "exception": true,
     "start_time": "2024-12-02T20:57:02.749364",
     "status": "failed"
    },
    "tags": []
   },
   "outputs": [],
   "source": [
    "\n",
    "import numpy as np \n",
    "import pandas as pd "
   ]
  },
  {
   "cell_type": "code",
   "execution_count": 2,
   "id": "6449c865",
   "metadata": {
    "execution": {
     "iopub.execute_input": "2024-12-02T20:28:44.000944Z",
     "iopub.status.busy": "2024-12-02T20:28:44.000575Z",
     "iopub.status.idle": "2024-12-02T20:28:44.027700Z",
     "shell.execute_reply": "2024-12-02T20:28:44.026707Z",
     "shell.execute_reply.started": "2024-12-02T20:28:44.000909Z"
    },
    "papermill": {
     "duration": null,
     "end_time": null,
     "exception": null,
     "start_time": null,
     "status": "pending"
    },
    "tags": []
   },
   "outputs": [],
   "source": [
    "import pandas as pd\n",
    "\n",
    "train_file_path = 'train_motion_data.csv'\n",
    "test_file_path = 'test_motion_data.csv'\n",
    "\n",
    "train_data = pd.read_csv(train_file_path)\n",
    "test_data = pd.read_csv(test_file_path)\n",
    "train_data['dataset'] = 'train'\n",
    "test_data['dataset'] = 'test'"
   ]
  },
  {
   "cell_type": "code",
   "execution_count": 3,
   "id": "c745bf41",
   "metadata": {
    "execution": {
     "iopub.execute_input": "2024-12-02T20:28:44.029227Z",
     "iopub.status.busy": "2024-12-02T20:28:44.028910Z",
     "iopub.status.idle": "2024-12-02T20:28:44.041499Z",
     "shell.execute_reply": "2024-12-02T20:28:44.040143Z",
     "shell.execute_reply.started": "2024-12-02T20:28:44.029192Z"
    },
    "papermill": {
     "duration": null,
     "end_time": null,
     "exception": null,
     "start_time": null,
     "status": "pending"
    },
    "tags": []
   },
   "outputs": [
    {
     "name": "stdout",
     "output_type": "stream",
     "text": [
      "Combined Data Shape: (6728, 9)\n",
      "       AccX      AccY      AccZ     GyroX     GyroY     GyroZ   Class  \\\n",
      "0  0.000000  0.000000  0.000000  0.059407 -0.174707  0.101938  NORMAL   \n",
      "1 -1.624864 -1.082492 -0.204183 -0.028558  0.051313  0.135536  NORMAL   \n",
      "2 -0.594660 -0.122410  0.220502 -0.019395 -0.029322  0.087888  NORMAL   \n",
      "3  0.738478 -0.228456  0.667732  0.069791 -0.029932  0.054902  NORMAL   \n",
      "4  0.101741  0.777568 -0.066730  0.030696 -0.003665  0.054902  NORMAL   \n",
      "\n",
      "   Timestamp dataset  \n",
      "0    3581629   train  \n",
      "1    3581630   train  \n",
      "2    3581630   train  \n",
      "3    3581631   train  \n",
      "4    3581631   train  \n"
     ]
    }
   ],
   "source": [
    "combined_data = pd.concat([train_data, test_data], ignore_index=True)\n",
    "print(\"Combined Data Shape:\", combined_data.shape)\n",
    "print(combined_data.head())"
   ]
  },
  {
   "cell_type": "code",
   "execution_count": 4,
   "id": "519e36c1",
   "metadata": {
    "execution": {
     "iopub.execute_input": "2024-12-02T20:28:44.044665Z",
     "iopub.status.busy": "2024-12-02T20:28:44.044296Z",
     "iopub.status.idle": "2024-12-02T20:28:44.084552Z",
     "shell.execute_reply": "2024-12-02T20:28:44.083348Z",
     "shell.execute_reply.started": "2024-12-02T20:28:44.044630Z"
    },
    "papermill": {
     "duration": null,
     "end_time": null,
     "exception": null,
     "start_time": null,
     "status": "pending"
    },
    "tags": []
   },
   "outputs": [
    {
     "name": "stdout",
     "output_type": "stream",
     "text": [
      "<class 'pandas.core.frame.DataFrame'>\n",
      "RangeIndex: 6728 entries, 0 to 6727\n",
      "Data columns (total 9 columns):\n",
      " #   Column     Non-Null Count  Dtype  \n",
      "---  ------     --------------  -----  \n",
      " 0   AccX       6728 non-null   float64\n",
      " 1   AccY       6728 non-null   float64\n",
      " 2   AccZ       6728 non-null   float64\n",
      " 3   GyroX      6728 non-null   float64\n",
      " 4   GyroY      6728 non-null   float64\n",
      " 5   GyroZ      6728 non-null   float64\n",
      " 6   Class      6728 non-null   object \n",
      " 7   Timestamp  6728 non-null   int64  \n",
      " 8   dataset    6728 non-null   object \n",
      "dtypes: float64(6), int64(1), object(2)\n",
      "memory usage: 473.2+ KB\n",
      "None\n",
      "AccX         0\n",
      "AccY         0\n",
      "AccZ         0\n",
      "GyroX        0\n",
      "GyroY        0\n",
      "GyroZ        0\n",
      "Class        0\n",
      "Timestamp    0\n",
      "dataset      0\n",
      "dtype: int64\n",
      "              AccX         AccY         AccZ        GyroX        GyroY  \\\n",
      "count  6728.000000  6728.000000  6728.000000  6728.000000  6728.000000   \n",
      "mean      0.070613    -0.100175     0.025112     0.002326    -0.000024   \n",
      "std       0.978118     0.904262     0.990935     0.066789     0.123828   \n",
      "min      -4.854163    -7.621754    -7.143998    -0.751822    -1.587028   \n",
      "25%      -0.478331    -0.605450    -0.519489    -0.026267    -0.050702   \n",
      "50%       0.029885    -0.087355     0.028696     0.001374    -0.001222   \n",
      "75%       0.587433     0.423664     0.563334     0.030085     0.047877   \n",
      "max       5.864980     4.308813     5.564037     1.490511     1.707598   \n",
      "\n",
      "             GyroZ     Timestamp  \n",
      "count  6728.000000  6.728000e+03  \n",
      "mean      0.009564  2.316251e+06  \n",
      "std       0.114710  1.376747e+06  \n",
      "min      -1.236468  8.189220e+05  \n",
      "25%      -0.028253  8.199088e+05  \n",
      "50%       0.002367  3.581780e+06  \n",
      "75%       0.038332  3.582777e+06  \n",
      "max       1.190500  3.583791e+06  \n",
      "dataset\n",
      "train    3644\n",
      "test     3084\n",
      "Name: count, dtype: int64\n"
     ]
    }
   ],
   "source": [
    "print(combined_data.info())\n",
    "\n",
    "print(combined_data.isnull().sum())\n",
    "print(combined_data.describe())\n",
    "print(combined_data['dataset'].value_counts())"
   ]
  },
  {
   "cell_type": "code",
   "execution_count": 5,
   "id": "7f113d24",
   "metadata": {
    "execution": {
     "iopub.execute_input": "2024-12-02T20:28:44.086275Z",
     "iopub.status.busy": "2024-12-02T20:28:44.085945Z",
     "iopub.status.idle": "2024-12-02T20:28:44.314498Z",
     "shell.execute_reply": "2024-12-02T20:28:44.313277Z",
     "shell.execute_reply.started": "2024-12-02T20:28:44.086242Z"
    },
    "papermill": {
     "duration": null,
     "end_time": null,
     "exception": null,
     "start_time": null,
     "status": "pending"
    },
    "tags": []
   },
   "outputs": [
    {
     "name": "stdout",
     "output_type": "stream",
     "text": [
      "Class Distribution:\n",
      "Class\n",
      "SLOW          2604\n",
      "NORMAL        2197\n",
      "AGGRESSIVE    1927\n",
      "Name: count, dtype: int64\n"
     ]
    },
    {
     "data": {
      "image/png": "[encoded data removed]",
      "text/plain": [
       "<Figure size 800x600 with 1 Axes>"
      ]
     },
     "metadata": {},
     "output_type": "display_data"
    }
   ],
   "source": [
    "import matplotlib.pyplot as plt\n",
    "\n",
    "# Class distribution\n",
    "class_counts = combined_data['Class'].value_counts()\n",
    "\n",
    "# Display counts\n",
    "print(\"Class Distribution:\")\n",
    "print(class_counts)\n",
    "\n",
    "# Plot the distribution\n",
    "plt.figure(figsize=(8, 6))\n",
    "class_counts.plot(kind='bar', color=['skyblue', 'orange', 'green'])\n",
    "plt.title('Driving Behavior Class Distribution')\n",
    "plt.xlabel('Class')\n",
    "plt.ylabel('Count')\n",
    "plt.xticks(rotation=0)\n",
    "plt.show()"
   ]
  },
  {
   "cell_type": "code",
   "execution_count": 6,
   "id": "f409eeec",
   "metadata": {
    "execution": {
     "iopub.execute_input": "2024-12-02T20:28:44.316692Z",
     "iopub.status.busy": "2024-12-02T20:28:44.316192Z",
     "iopub.status.idle": "2024-12-02T20:28:44.331149Z",
     "shell.execute_reply": "2024-12-02T20:28:44.329824Z",
     "shell.execute_reply.started": "2024-12-02T20:28:44.316641Z"
    },
    "papermill": {
     "duration": null,
     "end_time": null,
     "exception": null,
     "start_time": null,
     "status": "pending"
    },
    "tags": []
   },
   "outputs": [
    {
     "name": "stdout",
     "output_type": "stream",
     "text": [
      "Label Mapping: {'AGGRESSIVE': 1, 'NORMAL': 2, 'SLOW': 3}\n",
      "    Class  ClassEncoded\n",
      "0  NORMAL             2\n",
      "1  NORMAL             2\n",
      "2  NORMAL             2\n",
      "3  NORMAL             2\n",
      "4  NORMAL             2\n"
     ]
    }
   ],
   "source": [
    "from sklearn.preprocessing import LabelEncoder\n",
    "\n",
    "label_encoder = LabelEncoder()\n",
    "\n",
    "combined_data['ClassEncoded'] = label_encoder.fit_transform(combined_data['Class']) + 1  # Add 1 to make it 1, 2, 3\n",
    "\n",
    "label_mapping = dict(zip(label_encoder.classes_, label_encoder.transform(label_encoder.classes_) + 1))\n",
    "print(\"Label Mapping:\", label_mapping)\n",
    "print(combined_data[['Class', 'ClassEncoded']].head())"
   ]
  },
  {
   "cell_type": "code",
   "execution_count": 7,
   "id": "8e3f89bd",
   "metadata": {
    "execution": {
     "iopub.execute_input": "2024-12-02T20:28:44.332838Z",
     "iopub.status.busy": "2024-12-02T20:28:44.332470Z",
     "iopub.status.idle": "2024-12-02T20:28:44.790005Z",
     "shell.execute_reply": "2024-12-02T20:28:44.788518Z",
     "shell.execute_reply.started": "2024-12-02T20:28:44.332804Z"
    },
    "papermill": {
     "duration": null,
     "end_time": null,
     "exception": null,
     "start_time": null,
     "status": "pending"
    },
    "tags": []
   },
   "outputs": [
    {
     "data": {
      "image/png": "[encoded data removed]",
      "text/plain": [
       "<Figure size 1000x800 with 2 Axes>"
      ]
     },
     "metadata": {},
     "output_type": "display_data"
    }
   ],
   "source": [
    "import seaborn as sns\n",
    "\n",
    "numeric_columns = ['AccX', 'AccY', 'AccZ', 'GyroX', 'GyroY', 'GyroZ']\n",
    "\n",
    "# Calculate correlations\n",
    "correlation_matrix = combined_data[numeric_columns + ['ClassEncoded']].corr()\n",
    "\n",
    "# Plot heatmap\n",
    "plt.figure(figsize=(10, 8))\n",
    "sns.heatmap(correlation_matrix, annot=True, cmap='coolwarm', fmt='.2f')\n",
    "plt.title('Correlation Heatmap of Features')\n",
    "plt.show()"
   ]
  },
  {
   "cell_type": "code",
   "execution_count": 8,
   "id": "c4a38fac",
   "metadata": {
    "execution": {
     "iopub.execute_input": "2024-12-02T20:28:44.791849Z",
     "iopub.status.busy": "2024-12-02T20:28:44.791434Z",
     "iopub.status.idle": "2024-12-02T20:28:44.826078Z",
     "shell.execute_reply": "2024-12-02T20:28:44.824671Z",
     "shell.execute_reply.started": "2024-12-02T20:28:44.791811Z"
    },
    "papermill": {
     "duration": null,
     "end_time": null,
     "exception": null,
     "start_time": null,
     "status": "pending"
    },
    "tags": []
   },
   "outputs": [
    {
     "name": "stdout",
     "output_type": "stream",
     "text": [
      "After Standardization:\n",
      "               AccX          AccY          AccZ         GyroX         GyroY  \\\n",
      "count  6.728000e+03  6.728000e+03  6.728000e+03  6.728000e+03  6.728000e+03   \n",
      "mean   8.448784e-18 -4.224392e-18 -1.056098e-17  5.280490e-18 -4.224392e-18   \n",
      "std    1.000074e+00  1.000074e+00  1.000074e+00  1.000074e+00  1.000074e+00   \n",
      "min   -5.035326e+00 -8.318533e+00 -7.235229e+00 -1.129242e+01 -1.281714e+01   \n",
      "25%   -5.612666e-01 -5.588110e-01 -5.496239e-01 -4.281454e-01 -4.092902e-01   \n",
      "50%   -4.164200e-02  1.417902e-02  3.616546e-03 -1.424654e-02 -9.673580e-03   \n",
      "75%    5.284209e-01  5.793436e-01  5.431860e-01  4.156594e-01  3.868595e-01   \n",
      "max    5.924436e+00  4.876146e+00  5.590009e+00  2.228369e+01  1.379128e+01   \n",
      "\n",
      "              GyroZ  \n",
      "count  6.728000e+03  \n",
      "mean  -1.848172e-18  \n",
      "std    1.000074e+00  \n",
      "min   -1.086324e+01  \n",
      "25%   -3.296954e-01  \n",
      "50%   -6.274525e-02  \n",
      "75%    2.508047e-01  \n",
      "max    1.029572e+01  \n"
     ]
    }
   ],
   "source": [
    "from sklearn.preprocessing import StandardScaler\n",
    "\n",
    "# Columns to standardize\n",
    "numeric_columns = ['AccX', 'AccY', 'AccZ', 'GyroX', 'GyroY', 'GyroZ']\n",
    "\n",
    "# Standardize the data\n",
    "scaler = StandardScaler()\n",
    "combined_data[numeric_columns] = scaler.fit_transform(combined_data[numeric_columns])\n",
    "\n",
    "# Check the updated stats\n",
    "print(\"After Standardization:\")\n",
    "print(combined_data[numeric_columns].describe())"
   ]
  },
  {
   "cell_type": "code",
   "execution_count": 9,
   "id": "83129168",
   "metadata": {
    "execution": {
     "iopub.execute_input": "2024-12-02T20:28:44.828143Z",
     "iopub.status.busy": "2024-12-02T20:28:44.827772Z",
     "iopub.status.idle": "2024-12-02T20:28:46.270705Z",
     "shell.execute_reply": "2024-12-02T20:28:46.269221Z",
     "shell.execute_reply.started": "2024-12-02T20:28:44.828108Z"
    },
    "papermill": {
     "duration": null,
     "end_time": null,
     "exception": null,
     "start_time": null,
     "status": "pending"
    },
    "tags": []
   },
   "outputs": [
    {
     "data": {
      "image/png": "[encoded data removed]",
      "text/plain": [
       "<Figure size 1200x1000 with 6 Axes>"
      ]
     },
     "metadata": {},
     "output_type": "display_data"
    }
   ],
   "source": [
    "import matplotlib.pyplot as plt\n",
    "\n",
    "# Plot histograms\n",
    "combined_data[numeric_columns].hist(figsize=(12, 10), bins=20)\n",
    "plt.suptitle('Histograms of Numeric Features After Standardization', y=1.02)\n",
    "plt.tight_layout()\n",
    "plt.show()"
   ]
  },
  {
   "cell_type": "code",
   "execution_count": 10,
   "id": "ed014717",
   "metadata": {
    "execution": {
     "iopub.execute_input": "2024-12-02T20:28:46.276504Z",
     "iopub.status.busy": "2024-12-02T20:28:46.275963Z",
     "iopub.status.idle": "2024-12-02T20:28:46.709434Z",
     "shell.execute_reply": "2024-12-02T20:28:46.708381Z",
     "shell.execute_reply.started": "2024-12-02T20:28:46.276431Z"
    },
    "papermill": {
     "duration": null,
     "end_time": null,
     "exception": null,
     "start_time": null,
     "status": "pending"
    },
    "tags": []
   },
   "outputs": [
    {
     "data": {
      "image/png": "[encoded data removed]",
      "text/plain": [
       "<Figure size 1000x800 with 2 Axes>"
      ]
     },
     "metadata": {},
     "output_type": "display_data"
    }
   ],
   "source": [
    "import seaborn as sns\n",
    "\n",
    "# Calculate correlations\n",
    "correlation_matrix = combined_data[numeric_columns + ['ClassEncoded']].corr()\n",
    "\n",
    "# Plot heatmap\n",
    "plt.figure(figsize=(10, 8))\n",
    "sns.heatmap(correlation_matrix, annot=True, cmap='coolwarm', fmt='.2f')\n",
    "plt.title('Correlation Heatmap of Features')\n",
    "plt.show()"
   ]
  },
  {
   "cell_type": "code",
   "execution_count": 11,
   "id": "6d18ee52",
   "metadata": {
    "execution": {
     "iopub.execute_input": "2024-12-02T20:28:46.711909Z",
     "iopub.status.busy": "2024-12-02T20:28:46.711431Z",
     "iopub.status.idle": "2024-12-02T20:28:46.721881Z",
     "shell.execute_reply": "2024-12-02T20:28:46.720550Z",
     "shell.execute_reply.started": "2024-12-02T20:28:46.711860Z"
    },
    "papermill": {
     "duration": null,
     "end_time": null,
     "exception": null,
     "start_time": null,
     "status": "pending"
    },
    "tags": []
   },
   "outputs": [],
   "source": [
    "combined_data['AccMagnitude'] = (combined_data['AccX']**2 + combined_data['AccY']**2 + combined_data['AccZ']**2)**0.5\n",
    "combined_data['GyroMagnitude'] = (combined_data['GyroX']**2 + combined_data['GyroY']**2 + combined_data['GyroZ']**2)**0.5"
   ]
  },
  {
   "cell_type": "code",
   "execution_count": 12,
   "id": "e0fdef50",
   "metadata": {
    "execution": {
     "iopub.execute_input": "2024-12-02T20:28:46.723729Z",
     "iopub.status.busy": "2024-12-02T20:28:46.723289Z",
     "iopub.status.idle": "2024-12-02T20:28:46.742065Z",
     "shell.execute_reply": "2024-12-02T20:28:46.740574Z",
     "shell.execute_reply.started": "2024-12-02T20:28:46.723689Z"
    },
    "papermill": {
     "duration": null,
     "end_time": null,
     "exception": null,
     "start_time": null,
     "status": "pending"
    },
    "tags": []
   },
   "outputs": [
    {
     "name": "stdout",
     "output_type": "stream",
     "text": [
      "Final Combined Dataset Preview:\n",
      "       AccX      AccY      AccZ     GyroX     GyroY     GyroZ   Class  \\\n",
      "0 -0.072198  0.110790 -0.025344  0.854712 -1.410798  0.805342  NORMAL   \n",
      "1 -1.733536 -1.086398 -0.231409 -0.462446  0.414611  1.098255  NORMAL   \n",
      "2 -0.680207 -0.024590  0.197192 -0.325242 -0.236616  0.682851  NORMAL   \n",
      "3  0.682857 -0.141872  0.648547  1.010210 -0.241550  0.395264  NORMAL   \n",
      "4  0.031827  0.970745 -0.092689  0.424806 -0.029408  0.395264  NORMAL   \n",
      "\n",
      "   Timestamp dataset  ClassEncoded  AccMagnitude  GyroMagnitude  \n",
      "0    3581629   train             2      0.134645       1.835609  \n",
      "1    3581630   train             2      2.058874       1.261714  \n",
      "2    3581630   train             2      0.708640       0.792500  \n",
      "3    3581631   train             2      0.952384       1.111353  \n",
      "4    3581631   train             2      0.975679       0.580998  \n"
     ]
    }
   ],
   "source": [
    "print(\"Final Combined Dataset Preview:\")\n",
    "print(combined_data.head())"
   ]
  },
  {
   "cell_type": "code",
   "execution_count": 13,
   "id": "2eb45dcb",
   "metadata": {
    "execution": {
     "iopub.execute_input": "2024-12-02T20:28:46.744458Z",
     "iopub.status.busy": "2024-12-02T20:28:46.743752Z",
     "iopub.status.idle": "2024-12-02T20:28:46.757900Z",
     "shell.execute_reply": "2024-12-02T20:28:46.756360Z",
     "shell.execute_reply.started": "2024-12-02T20:28:46.744400Z"
    },
    "papermill": {
     "duration": null,
     "end_time": null,
     "exception": null,
     "start_time": null,
     "status": "pending"
    },
    "tags": []
   },
   "outputs": [
    {
     "name": "stdout",
     "output_type": "stream",
     "text": [
      "Correlation with ClassEncoded:\n",
      "AccMagnitude    -0.254754\n",
      "GyroMagnitude   -0.101623\n",
      "ClassEncoded     1.000000\n",
      "Name: ClassEncoded, dtype: float64\n"
     ]
    }
   ],
   "source": [
    "# Correlation of AccMagnitude and GyroMagnitude with ClassEncoded\n",
    "correlation_with_class = combined_data[['AccMagnitude', 'GyroMagnitude', 'ClassEncoded']].corr()\n",
    "print(\"Correlation with ClassEncoded:\")\n",
    "print(correlation_with_class['ClassEncoded'])"
   ]
  },
  {
   "cell_type": "code",
   "execution_count": 14,
   "id": "86252c05",
   "metadata": {
    "execution": {
     "iopub.execute_input": "2024-12-02T20:28:46.760200Z",
     "iopub.status.busy": "2024-12-02T20:28:46.759811Z",
     "iopub.status.idle": "2024-12-02T20:28:46.781566Z",
     "shell.execute_reply": "2024-12-02T20:28:46.780314Z",
     "shell.execute_reply.started": "2024-12-02T20:28:46.760160Z"
    },
    "papermill": {
     "duration": null,
     "end_time": null,
     "exception": null,
     "start_time": null,
     "status": "pending"
    },
    "tags": []
   },
   "outputs": [
    {
     "data": {
      "text/html": [
       "<div>\n",
       "<style scoped>\n",
       "    .dataframe tbody tr th:only-of-type {\n",
       "        vertical-align: middle;\n",
       "    }\n",
       "\n",
       "    .dataframe tbody tr th {\n",
       "        vertical-align: top;\n",
       "    }\n",
       "\n",
       "    .dataframe thead th {\n",
       "        text-align: right;\n",
       "    }\n",
       "</style>\n",
       "<table border=\"1\" class=\"dataframe\">\n",
       "  <thead>\n",
       "    <tr style=\"text-align: right;\">\n",
       "      <th></th>\n",
       "      <th>AccX</th>\n",
       "      <th>AccY</th>\n",
       "      <th>AccZ</th>\n",
       "      <th>GyroX</th>\n",
       "      <th>GyroY</th>\n",
       "      <th>GyroZ</th>\n",
       "      <th>Class</th>\n",
       "      <th>Timestamp</th>\n",
       "      <th>dataset</th>\n",
       "      <th>ClassEncoded</th>\n",
       "      <th>AccMagnitude</th>\n",
       "      <th>GyroMagnitude</th>\n",
       "    </tr>\n",
       "  </thead>\n",
       "  <tbody>\n",
       "    <tr>\n",
       "      <th>0</th>\n",
       "      <td>-0.072198</td>\n",
       "      <td>0.110790</td>\n",
       "      <td>-0.025344</td>\n",
       "      <td>0.854712</td>\n",
       "      <td>-1.410798</td>\n",
       "      <td>0.805342</td>\n",
       "      <td>NORMAL</td>\n",
       "      <td>3581629</td>\n",
       "      <td>train</td>\n",
       "      <td>2</td>\n",
       "      <td>0.134645</td>\n",
       "      <td>1.835609</td>\n",
       "    </tr>\n",
       "    <tr>\n",
       "      <th>1</th>\n",
       "      <td>-1.733536</td>\n",
       "      <td>-1.086398</td>\n",
       "      <td>-0.231409</td>\n",
       "      <td>-0.462446</td>\n",
       "      <td>0.414611</td>\n",
       "      <td>1.098255</td>\n",
       "      <td>NORMAL</td>\n",
       "      <td>3581630</td>\n",
       "      <td>train</td>\n",
       "      <td>2</td>\n",
       "      <td>2.058874</td>\n",
       "      <td>1.261714</td>\n",
       "    </tr>\n",
       "    <tr>\n",
       "      <th>2</th>\n",
       "      <td>-0.680207</td>\n",
       "      <td>-0.024590</td>\n",
       "      <td>0.197192</td>\n",
       "      <td>-0.325242</td>\n",
       "      <td>-0.236616</td>\n",
       "      <td>0.682851</td>\n",
       "      <td>NORMAL</td>\n",
       "      <td>3581630</td>\n",
       "      <td>train</td>\n",
       "      <td>2</td>\n",
       "      <td>0.708640</td>\n",
       "      <td>0.792500</td>\n",
       "    </tr>\n",
       "    <tr>\n",
       "      <th>3</th>\n",
       "      <td>0.682857</td>\n",
       "      <td>-0.141872</td>\n",
       "      <td>0.648547</td>\n",
       "      <td>1.010210</td>\n",
       "      <td>-0.241550</td>\n",
       "      <td>0.395264</td>\n",
       "      <td>NORMAL</td>\n",
       "      <td>3581631</td>\n",
       "      <td>train</td>\n",
       "      <td>2</td>\n",
       "      <td>0.952384</td>\n",
       "      <td>1.111353</td>\n",
       "    </tr>\n",
       "    <tr>\n",
       "      <th>4</th>\n",
       "      <td>0.031827</td>\n",
       "      <td>0.970745</td>\n",
       "      <td>-0.092689</td>\n",
       "      <td>0.424806</td>\n",
       "      <td>-0.029408</td>\n",
       "      <td>0.395264</td>\n",
       "      <td>NORMAL</td>\n",
       "      <td>3581631</td>\n",
       "      <td>train</td>\n",
       "      <td>2</td>\n",
       "      <td>0.975679</td>\n",
       "      <td>0.580998</td>\n",
       "    </tr>\n",
       "    <tr>\n",
       "      <th>...</th>\n",
       "      <td>...</td>\n",
       "      <td>...</td>\n",
       "      <td>...</td>\n",
       "      <td>...</td>\n",
       "      <td>...</td>\n",
       "      <td>...</td>\n",
       "      <td>...</td>\n",
       "      <td>...</td>\n",
       "      <td>...</td>\n",
       "      <td>...</td>\n",
       "      <td>...</td>\n",
       "      <td>...</td>\n",
       "    </tr>\n",
       "    <tr>\n",
       "      <th>6723</th>\n",
       "      <td>-0.802081</td>\n",
       "      <td>-0.611372</td>\n",
       "      <td>-0.190871</td>\n",
       "      <td>-2.248385</td>\n",
       "      <td>-10.575462</td>\n",
       "      <td>4.426144</td>\n",
       "      <td>SLOW</td>\n",
       "      <td>820706</td>\n",
       "      <td>test</td>\n",
       "      <td>3</td>\n",
       "      <td>1.026421</td>\n",
       "      <td>11.682739</td>\n",
       "    </tr>\n",
       "    <tr>\n",
       "      <th>6724</th>\n",
       "      <td>1.476054</td>\n",
       "      <td>0.475833</td>\n",
       "      <td>1.004784</td>\n",
       "      <td>19.749995</td>\n",
       "      <td>13.791283</td>\n",
       "      <td>-5.964274</td>\n",
       "      <td>SLOW</td>\n",
       "      <td>820707</td>\n",
       "      <td>test</td>\n",
       "      <td>3</td>\n",
       "      <td>1.847902</td>\n",
       "      <td>24.816010</td>\n",
       "    </tr>\n",
       "    <tr>\n",
       "      <th>6725</th>\n",
       "      <td>1.236756</td>\n",
       "      <td>-1.808234</td>\n",
       "      <td>-2.379552</td>\n",
       "      <td>8.700496</td>\n",
       "      <td>5.576942</td>\n",
       "      <td>-4.164191</td>\n",
       "      <td>SLOW</td>\n",
       "      <td>820707</td>\n",
       "      <td>test</td>\n",
       "      <td>3</td>\n",
       "      <td>3.234431</td>\n",
       "      <td>11.141875</td>\n",
       "    </tr>\n",
       "    <tr>\n",
       "      <th>6726</th>\n",
       "      <td>0.860593</td>\n",
       "      <td>0.755909</td>\n",
       "      <td>-0.999871</td>\n",
       "      <td>3.495890</td>\n",
       "      <td>4.141282</td>\n",
       "      <td>3.456869</td>\n",
       "      <td>SLOW</td>\n",
       "      <td>820708</td>\n",
       "      <td>test</td>\n",
       "      <td>3</td>\n",
       "      <td>1.520448</td>\n",
       "      <td>6.428173</td>\n",
       "    </tr>\n",
       "    <tr>\n",
       "      <th>6727</th>\n",
       "      <td>1.422796</td>\n",
       "      <td>0.321238</td>\n",
       "      <td>-0.005788</td>\n",
       "      <td>-3.849099</td>\n",
       "      <td>-2.257517</td>\n",
       "      <td>0.580997</td>\n",
       "      <td>SLOW</td>\n",
       "      <td>820709</td>\n",
       "      <td>test</td>\n",
       "      <td>3</td>\n",
       "      <td>1.458621</td>\n",
       "      <td>4.499945</td>\n",
       "    </tr>\n",
       "  </tbody>\n",
       "</table>\n",
       "<p>6728 rows × 12 columns</p>\n",
       "</div>"
      ],
      "text/plain": [
       "          AccX      AccY      AccZ      GyroX      GyroY     GyroZ   Class  \\\n",
       "0    -0.072198  0.110790 -0.025344   0.854712  -1.410798  0.805342  NORMAL   \n",
       "1    -1.733536 -1.086398 -0.231409  -0.462446   0.414611  1.098255  NORMAL   \n",
       "2    -0.680207 -0.024590  0.197192  -0.325242  -0.236616  0.682851  NORMAL   \n",
       "3     0.682857 -0.141872  0.648547   1.010210  -0.241550  0.395264  NORMAL   \n",
       "4     0.031827  0.970745 -0.092689   0.424806  -0.029408  0.395264  NORMAL   \n",
       "...        ...       ...       ...        ...        ...       ...     ...   \n",
       "6723 -0.802081 -0.611372 -0.190871  -2.248385 -10.575462  4.426144    SLOW   \n",
       "6724  1.476054  0.475833  1.004784  19.749995  13.791283 -5.964274    SLOW   \n",
       "6725  1.236756 -1.808234 -2.379552   8.700496   5.576942 -4.164191    SLOW   \n",
       "6726  0.860593  0.755909 -0.999871   3.495890   4.141282  3.456869    SLOW   \n",
       "6727  1.422796  0.321238 -0.005788  -3.849099  -2.257517  0.580997    SLOW   \n",
       "\n",
       "      Timestamp dataset  ClassEncoded  AccMagnitude  GyroMagnitude  \n",
       "0       3581629   train             2      0.134645       1.835609  \n",
       "1       3581630   train             2      2.058874       1.261714  \n",
       "2       3581630   train             2      0.708640       0.792500  \n",
       "3       3581631   train             2      0.952384       1.111353  \n",
       "4       3581631   train             2      0.975679       0.580998  \n",
       "...         ...     ...           ...           ...            ...  \n",
       "6723     820706    test             3      1.026421      11.682739  \n",
       "6724     820707    test             3      1.847902      24.816010  \n",
       "6725     820707    test             3      3.234431      11.141875  \n",
       "6726     820708    test             3      1.520448       6.428173  \n",
       "6727     820709    test             3      1.458621       4.499945  \n",
       "\n",
       "[6728 rows x 12 columns]"
      ]
     },
     "execution_count": 14,
     "metadata": {},
     "output_type": "execute_result"
    }
   ],
   "source": [
    "combined_data"
   ]
  },
  {
   "cell_type": "code",
   "execution_count": 15,
   "id": "0cbe89d5",
   "metadata": {
    "execution": {
     "iopub.execute_input": "2024-12-02T20:28:46.783632Z",
     "iopub.status.busy": "2024-12-02T20:28:46.783167Z",
     "iopub.status.idle": "2024-12-02T20:28:46.795008Z",
     "shell.execute_reply": "2024-12-02T20:28:46.793633Z",
     "shell.execute_reply.started": "2024-12-02T20:28:46.783588Z"
    },
    "papermill": {
     "duration": null,
     "end_time": null,
     "exception": null,
     "start_time": null,
     "status": "pending"
    },
    "tags": []
   },
   "outputs": [],
   "source": [
    "combined_data_df = pd.DataFrame(combined_data)\n",
    "combined_data_df = combined_data_df[[\"AccX\", \"AccY\", \"AccZ\", \"GyroX\", \"GyroY\", \"GyroZ\", \"Timestamp\", \"GyroMagnitude\", \"AccMagnitude\" ,\"ClassEncoded\"]]"
   ]
  },
  {
   "cell_type": "code",
   "execution_count": 16,
   "id": "36f6e940",
   "metadata": {
    "execution": {
     "iopub.execute_input": "2024-12-02T20:28:46.796878Z",
     "iopub.status.busy": "2024-12-02T20:28:46.796464Z",
     "iopub.status.idle": "2024-12-02T20:28:46.819795Z",
     "shell.execute_reply": "2024-12-02T20:28:46.818562Z",
     "shell.execute_reply.started": "2024-12-02T20:28:46.796828Z"
    },
    "papermill": {
     "duration": null,
     "end_time": null,
     "exception": null,
     "start_time": null,
     "status": "pending"
    },
    "tags": []
   },
   "outputs": [
    {
     "data": {
      "text/html": [
       "<div>\n",
       "<style scoped>\n",
       "    .dataframe tbody tr th:only-of-type {\n",
       "        vertical-align: middle;\n",
       "    }\n",
       "\n",
       "    .dataframe tbody tr th {\n",
       "        vertical-align: top;\n",
       "    }\n",
       "\n",
       "    .dataframe thead th {\n",
       "        text-align: right;\n",
       "    }\n",
       "</style>\n",
       "<table border=\"1\" class=\"dataframe\">\n",
       "  <thead>\n",
       "    <tr style=\"text-align: right;\">\n",
       "      <th></th>\n",
       "      <th>AccX</th>\n",
       "      <th>AccY</th>\n",
       "      <th>AccZ</th>\n",
       "      <th>GyroX</th>\n",
       "      <th>GyroY</th>\n",
       "      <th>GyroZ</th>\n",
       "      <th>Timestamp</th>\n",
       "      <th>GyroMagnitude</th>\n",
       "      <th>AccMagnitude</th>\n",
       "      <th>ClassEncoded</th>\n",
       "    </tr>\n",
       "  </thead>\n",
       "  <tbody>\n",
       "    <tr>\n",
       "      <th>0</th>\n",
       "      <td>-0.072198</td>\n",
       "      <td>0.110790</td>\n",
       "      <td>-0.025344</td>\n",
       "      <td>0.854712</td>\n",
       "      <td>-1.410798</td>\n",
       "      <td>0.805342</td>\n",
       "      <td>3581629</td>\n",
       "      <td>1.835609</td>\n",
       "      <td>0.134645</td>\n",
       "      <td>2</td>\n",
       "    </tr>\n",
       "    <tr>\n",
       "      <th>1</th>\n",
       "      <td>-1.733536</td>\n",
       "      <td>-1.086398</td>\n",
       "      <td>-0.231409</td>\n",
       "      <td>-0.462446</td>\n",
       "      <td>0.414611</td>\n",
       "      <td>1.098255</td>\n",
       "      <td>3581630</td>\n",
       "      <td>1.261714</td>\n",
       "      <td>2.058874</td>\n",
       "      <td>2</td>\n",
       "    </tr>\n",
       "    <tr>\n",
       "      <th>2</th>\n",
       "      <td>-0.680207</td>\n",
       "      <td>-0.024590</td>\n",
       "      <td>0.197192</td>\n",
       "      <td>-0.325242</td>\n",
       "      <td>-0.236616</td>\n",
       "      <td>0.682851</td>\n",
       "      <td>3581630</td>\n",
       "      <td>0.792500</td>\n",
       "      <td>0.708640</td>\n",
       "      <td>2</td>\n",
       "    </tr>\n",
       "    <tr>\n",
       "      <th>3</th>\n",
       "      <td>0.682857</td>\n",
       "      <td>-0.141872</td>\n",
       "      <td>0.648547</td>\n",
       "      <td>1.010210</td>\n",
       "      <td>-0.241550</td>\n",
       "      <td>0.395264</td>\n",
       "      <td>3581631</td>\n",
       "      <td>1.111353</td>\n",
       "      <td>0.952384</td>\n",
       "      <td>2</td>\n",
       "    </tr>\n",
       "    <tr>\n",
       "      <th>4</th>\n",
       "      <td>0.031827</td>\n",
       "      <td>0.970745</td>\n",
       "      <td>-0.092689</td>\n",
       "      <td>0.424806</td>\n",
       "      <td>-0.029408</td>\n",
       "      <td>0.395264</td>\n",
       "      <td>3581631</td>\n",
       "      <td>0.580998</td>\n",
       "      <td>0.975679</td>\n",
       "      <td>2</td>\n",
       "    </tr>\n",
       "    <tr>\n",
       "      <th>...</th>\n",
       "      <td>...</td>\n",
       "      <td>...</td>\n",
       "      <td>...</td>\n",
       "      <td>...</td>\n",
       "      <td>...</td>\n",
       "      <td>...</td>\n",
       "      <td>...</td>\n",
       "      <td>...</td>\n",
       "      <td>...</td>\n",
       "      <td>...</td>\n",
       "    </tr>\n",
       "    <tr>\n",
       "      <th>6723</th>\n",
       "      <td>-0.802081</td>\n",
       "      <td>-0.611372</td>\n",
       "      <td>-0.190871</td>\n",
       "      <td>-2.248385</td>\n",
       "      <td>-10.575462</td>\n",
       "      <td>4.426144</td>\n",
       "      <td>820706</td>\n",
       "      <td>11.682739</td>\n",
       "      <td>1.026421</td>\n",
       "      <td>3</td>\n",
       "    </tr>\n",
       "    <tr>\n",
       "      <th>6724</th>\n",
       "      <td>1.476054</td>\n",
       "      <td>0.475833</td>\n",
       "      <td>1.004784</td>\n",
       "      <td>19.749995</td>\n",
       "      <td>13.791283</td>\n",
       "      <td>-5.964274</td>\n",
       "      <td>820707</td>\n",
       "      <td>24.816010</td>\n",
       "      <td>1.847902</td>\n",
       "      <td>3</td>\n",
       "    </tr>\n",
       "    <tr>\n",
       "      <th>6725</th>\n",
       "      <td>1.236756</td>\n",
       "      <td>-1.808234</td>\n",
       "      <td>-2.379552</td>\n",
       "      <td>8.700496</td>\n",
       "      <td>5.576942</td>\n",
       "      <td>-4.164191</td>\n",
       "      <td>820707</td>\n",
       "      <td>11.141875</td>\n",
       "      <td>3.234431</td>\n",
       "      <td>3</td>\n",
       "    </tr>\n",
       "    <tr>\n",
       "      <th>6726</th>\n",
       "      <td>0.860593</td>\n",
       "      <td>0.755909</td>\n",
       "      <td>-0.999871</td>\n",
       "      <td>3.495890</td>\n",
       "      <td>4.141282</td>\n",
       "      <td>3.456869</td>\n",
       "      <td>820708</td>\n",
       "      <td>6.428173</td>\n",
       "      <td>1.520448</td>\n",
       "      <td>3</td>\n",
       "    </tr>\n",
       "    <tr>\n",
       "      <th>6727</th>\n",
       "      <td>1.422796</td>\n",
       "      <td>0.321238</td>\n",
       "      <td>-0.005788</td>\n",
       "      <td>-3.849099</td>\n",
       "      <td>-2.257517</td>\n",
       "      <td>0.580997</td>\n",
       "      <td>820709</td>\n",
       "      <td>4.499945</td>\n",
       "      <td>1.458621</td>\n",
       "      <td>3</td>\n",
       "    </tr>\n",
       "  </tbody>\n",
       "</table>\n",
       "<p>6728 rows × 10 columns</p>\n",
       "</div>"
      ],
      "text/plain": [
       "          AccX      AccY      AccZ      GyroX      GyroY     GyroZ  Timestamp  \\\n",
       "0    -0.072198  0.110790 -0.025344   0.854712  -1.410798  0.805342    3581629   \n",
       "1    -1.733536 -1.086398 -0.231409  -0.462446   0.414611  1.098255    3581630   \n",
       "2    -0.680207 -0.024590  0.197192  -0.325242  -0.236616  0.682851    3581630   \n",
       "3     0.682857 -0.141872  0.648547   1.010210  -0.241550  0.395264    3581631   \n",
       "4     0.031827  0.970745 -0.092689   0.424806  -0.029408  0.395264    3581631   \n",
       "...        ...       ...       ...        ...        ...       ...        ...   \n",
       "6723 -0.802081 -0.611372 -0.190871  -2.248385 -10.575462  4.426144     820706   \n",
       "6724  1.476054  0.475833  1.004784  19.749995  13.791283 -5.964274     820707   \n",
       "6725  1.236756 -1.808234 -2.379552   8.700496   5.576942 -4.164191     820707   \n",
       "6726  0.860593  0.755909 -0.999871   3.495890   4.141282  3.456869     820708   \n",
       "6727  1.422796  0.321238 -0.005788  -3.849099  -2.257517  0.580997     820709   \n",
       "\n",
       "      GyroMagnitude  AccMagnitude  ClassEncoded  \n",
       "0          1.835609      0.134645             2  \n",
       "1          1.261714      2.058874             2  \n",
       "2          0.792500      0.708640             2  \n",
       "3          1.111353      0.952384             2  \n",
       "4          0.580998      0.975679             2  \n",
       "...             ...           ...           ...  \n",
       "6723      11.682739      1.026421             3  \n",
       "6724      24.816010      1.847902             3  \n",
       "6725      11.141875      3.234431             3  \n",
       "6726       6.428173      1.520448             3  \n",
       "6727       4.499945      1.458621             3  \n",
       "\n",
       "[6728 rows x 10 columns]"
      ]
     },
     "execution_count": 16,
     "metadata": {},
     "output_type": "execute_result"
    }
   ],
   "source": [
    "combined_data_df"
   ]
  },
  {
   "cell_type": "code",
   "execution_count": 17,
   "id": "65ca4e8b",
   "metadata": {
    "execution": {
     "iopub.execute_input": "2024-12-02T20:28:46.821851Z",
     "iopub.status.busy": "2024-12-02T20:28:46.821336Z",
     "iopub.status.idle": "2024-12-02T20:28:46.834137Z",
     "shell.execute_reply": "2024-12-02T20:28:46.832958Z",
     "shell.execute_reply.started": "2024-12-02T20:28:46.821800Z"
    },
    "papermill": {
     "duration": null,
     "end_time": null,
     "exception": null,
     "start_time": null,
     "status": "pending"
    },
    "tags": []
   },
   "outputs": [],
   "source": [
    "shuffled_df = combined_data_df.sample(frac=1, random_state=42).reset_index(drop=True)"
   ]
  },
  {
   "cell_type": "code",
   "execution_count": 18,
   "id": "fe40d6ad",
   "metadata": {
    "execution": {
     "iopub.execute_input": "2024-12-02T20:28:46.836757Z",
     "iopub.status.busy": "2024-12-02T20:28:46.836090Z",
     "iopub.status.idle": "2024-12-02T20:28:46.856137Z",
     "shell.execute_reply": "2024-12-02T20:28:46.854765Z",
     "shell.execute_reply.started": "2024-12-02T20:28:46.836691Z"
    },
    "papermill": {
     "duration": null,
     "end_time": null,
     "exception": null,
     "start_time": null,
     "status": "pending"
    },
    "tags": []
   },
   "outputs": [
    {
     "data": {
      "text/html": [
       "<div>\n",
       "<style scoped>\n",
       "    .dataframe tbody tr th:only-of-type {\n",
       "        vertical-align: middle;\n",
       "    }\n",
       "\n",
       "    .dataframe tbody tr th {\n",
       "        vertical-align: top;\n",
       "    }\n",
       "\n",
       "    .dataframe thead th {\n",
       "        text-align: right;\n",
       "    }\n",
       "</style>\n",
       "<table border=\"1\" class=\"dataframe\">\n",
       "  <thead>\n",
       "    <tr style=\"text-align: right;\">\n",
       "      <th></th>\n",
       "      <th>AccX</th>\n",
       "      <th>AccY</th>\n",
       "      <th>AccZ</th>\n",
       "      <th>GyroX</th>\n",
       "      <th>GyroY</th>\n",
       "      <th>GyroZ</th>\n",
       "      <th>Timestamp</th>\n",
       "      <th>GyroMagnitude</th>\n",
       "      <th>AccMagnitude</th>\n",
       "      <th>ClassEncoded</th>\n",
       "    </tr>\n",
       "  </thead>\n",
       "  <tbody>\n",
       "    <tr>\n",
       "      <th>0</th>\n",
       "      <td>-0.444457</td>\n",
       "      <td>-0.444628</td>\n",
       "      <td>-0.549463</td>\n",
       "      <td>0.760956</td>\n",
       "      <td>-0.081827</td>\n",
       "      <td>-0.042108</td>\n",
       "      <td>819745</td>\n",
       "      <td>0.766500</td>\n",
       "      <td>0.834953</td>\n",
       "      <td>2</td>\n",
       "    </tr>\n",
       "    <tr>\n",
       "      <th>1</th>\n",
       "      <td>0.121537</td>\n",
       "      <td>-0.240410</td>\n",
       "      <td>0.861443</td>\n",
       "      <td>0.058929</td>\n",
       "      <td>0.276472</td>\n",
       "      <td>0.352658</td>\n",
       "      <td>3581700</td>\n",
       "      <td>0.451970</td>\n",
       "      <td>0.902581</td>\n",
       "      <td>2</td>\n",
       "    </tr>\n",
       "    <tr>\n",
       "      <th>2</th>\n",
       "      <td>0.311207</td>\n",
       "      <td>0.543427</td>\n",
       "      <td>-0.759027</td>\n",
       "      <td>-1.059284</td>\n",
       "      <td>-0.737987</td>\n",
       "      <td>-0.169925</td>\n",
       "      <td>819607</td>\n",
       "      <td>1.302145</td>\n",
       "      <td>0.984014</td>\n",
       "      <td>2</td>\n",
       "    </tr>\n",
       "    <tr>\n",
       "      <th>3</th>\n",
       "      <td>-0.946909</td>\n",
       "      <td>0.805519</td>\n",
       "      <td>3.087096</td>\n",
       "      <td>0.916454</td>\n",
       "      <td>-0.141029</td>\n",
       "      <td>2.034910</td>\n",
       "      <td>819617</td>\n",
       "      <td>2.236210</td>\n",
       "      <td>3.328011</td>\n",
       "      <td>2</td>\n",
       "    </tr>\n",
       "    <tr>\n",
       "      <th>4</th>\n",
       "      <td>1.103674</td>\n",
       "      <td>-0.445891</td>\n",
       "      <td>0.518754</td>\n",
       "      <td>0.058929</td>\n",
       "      <td>0.128465</td>\n",
       "      <td>-0.339681</td>\n",
       "      <td>3583404</td>\n",
       "      <td>0.367912</td>\n",
       "      <td>1.298469</td>\n",
       "      <td>3</td>\n",
       "    </tr>\n",
       "    <tr>\n",
       "      <th>...</th>\n",
       "      <td>...</td>\n",
       "      <td>...</td>\n",
       "      <td>...</td>\n",
       "      <td>...</td>\n",
       "      <td>...</td>\n",
       "      <td>...</td>\n",
       "      <td>...</td>\n",
       "      <td>...</td>\n",
       "      <td>...</td>\n",
       "      <td>...</td>\n",
       "    </tr>\n",
       "    <tr>\n",
       "      <th>6723</th>\n",
       "      <td>-1.681967</td>\n",
       "      <td>-0.549674</td>\n",
       "      <td>-1.226643</td>\n",
       "      <td>-0.281794</td>\n",
       "      <td>-0.826791</td>\n",
       "      <td>0.815328</td>\n",
       "      <td>818991</td>\n",
       "      <td>1.194885</td>\n",
       "      <td>2.153093</td>\n",
       "      <td>1</td>\n",
       "    </tr>\n",
       "    <tr>\n",
       "      <th>6724</th>\n",
       "      <td>-0.895258</td>\n",
       "      <td>-0.682414</td>\n",
       "      <td>-0.850723</td>\n",
       "      <td>0.358491</td>\n",
       "      <td>-0.328503</td>\n",
       "      <td>-0.052760</td>\n",
       "      <td>819836</td>\n",
       "      <td>0.489095</td>\n",
       "      <td>1.410994</td>\n",
       "      <td>2</td>\n",
       "    </tr>\n",
       "    <tr>\n",
       "      <th>6725</th>\n",
       "      <td>0.416610</td>\n",
       "      <td>1.473607</td>\n",
       "      <td>0.480781</td>\n",
       "      <td>-0.611084</td>\n",
       "      <td>0.687805</td>\n",
       "      <td>-0.356324</td>\n",
       "      <td>819855</td>\n",
       "      <td>0.986644</td>\n",
       "      <td>1.605064</td>\n",
       "      <td>2</td>\n",
       "    </tr>\n",
       "    <tr>\n",
       "      <th>6726</th>\n",
       "      <td>-0.031760</td>\n",
       "      <td>-0.404605</td>\n",
       "      <td>0.044180</td>\n",
       "      <td>-0.775729</td>\n",
       "      <td>-0.259434</td>\n",
       "      <td>-1.783608</td>\n",
       "      <td>819943</td>\n",
       "      <td>1.962223</td>\n",
       "      <td>0.408247</td>\n",
       "      <td>2</td>\n",
       "    </tr>\n",
       "    <tr>\n",
       "      <th>6727</th>\n",
       "      <td>0.565708</td>\n",
       "      <td>-0.008926</td>\n",
       "      <td>-0.387104</td>\n",
       "      <td>-0.197185</td>\n",
       "      <td>0.246870</td>\n",
       "      <td>-0.494126</td>\n",
       "      <td>3582093</td>\n",
       "      <td>0.586504</td>\n",
       "      <td>0.685533</td>\n",
       "      <td>2</td>\n",
       "    </tr>\n",
       "  </tbody>\n",
       "</table>\n",
       "<p>6728 rows × 10 columns</p>\n",
       "</div>"
      ],
      "text/plain": [
       "          AccX      AccY      AccZ     GyroX     GyroY     GyroZ  Timestamp  \\\n",
       "0    -0.444457 -0.444628 -0.549463  0.760956 -0.081827 -0.042108     819745   \n",
       "1     0.121537 -0.240410  0.861443  0.058929  0.276472  0.352658    3581700   \n",
       "2     0.311207  0.543427 -0.759027 -1.059284 -0.737987 -0.169925     819607   \n",
       "3    -0.946909  0.805519  3.087096  0.916454 -0.141029  2.034910     819617   \n",
       "4     1.103674 -0.445891  0.518754  0.058929  0.128465 -0.339681    3583404   \n",
       "...        ...       ...       ...       ...       ...       ...        ...   \n",
       "6723 -1.681967 -0.549674 -1.226643 -0.281794 -0.826791  0.815328     818991   \n",
       "6724 -0.895258 -0.682414 -0.850723  0.358491 -0.328503 -0.052760     819836   \n",
       "6725  0.416610  1.473607  0.480781 -0.611084  0.687805 -0.356324     819855   \n",
       "6726 -0.031760 -0.404605  0.044180 -0.775729 -0.259434 -1.783608     819943   \n",
       "6727  0.565708 -0.008926 -0.387104 -0.197185  0.246870 -0.494126    3582093   \n",
       "\n",
       "      GyroMagnitude  AccMagnitude  ClassEncoded  \n",
       "0          0.766500      0.834953             2  \n",
       "1          0.451970      0.902581             2  \n",
       "2          1.302145      0.984014             2  \n",
       "3          2.236210      3.328011             2  \n",
       "4          0.367912      1.298469             3  \n",
       "...             ...           ...           ...  \n",
       "6723       1.194885      2.153093             1  \n",
       "6724       0.489095      1.410994             2  \n",
       "6725       0.986644      1.605064             2  \n",
       "6726       1.962223      0.408247             2  \n",
       "6727       0.586504      0.685533             2  \n",
       "\n",
       "[6728 rows x 10 columns]"
      ]
     },
     "execution_count": 18,
     "metadata": {},
     "output_type": "execute_result"
    }
   ],
   "source": [
    "shuffled_df"
   ]
  },
  {
   "cell_type": "code",
   "execution_count": 19,
   "id": "94cab30f",
   "metadata": {
    "execution": {
     "iopub.execute_input": "2024-12-02T20:28:46.858398Z",
     "iopub.status.busy": "2024-12-02T20:28:46.858024Z",
     "iopub.status.idle": "2024-12-02T20:28:46.867868Z",
     "shell.execute_reply": "2024-12-02T20:28:46.866659Z",
     "shell.execute_reply.started": "2024-12-02T20:28:46.858350Z"
    },
    "papermill": {
     "duration": null,
     "end_time": null,
     "exception": null,
     "start_time": null,
     "status": "pending"
    },
    "tags": []
   },
   "outputs": [],
   "source": [
    "X = shuffled_df.iloc[:, :-1]  # All columns except the last one (features)\n",
    "y = shuffled_df[\"ClassEncoded\"]  # The last column (target)"
   ]
  },
  {
   "cell_type": "code",
   "execution_count": 20,
   "id": "b7a062cf",
   "metadata": {
    "execution": {
     "iopub.execute_input": "2024-12-02T20:28:46.870016Z",
     "iopub.status.busy": "2024-12-02T20:28:46.869690Z",
     "iopub.status.idle": "2024-12-02T20:28:46.880896Z",
     "shell.execute_reply": "2024-12-02T20:28:46.879744Z",
     "shell.execute_reply.started": "2024-12-02T20:28:46.869986Z"
    },
    "papermill": {
     "duration": null,
     "end_time": null,
     "exception": null,
     "start_time": null,
     "status": "pending"
    },
    "tags": []
   },
   "outputs": [],
   "source": [
    "from sklearn.model_selection import train_test_split, cross_val_score, KFold\n",
    "from sklearn.neighbors import KNeighborsClassifier\n",
    "from sklearn.naive_bayes import GaussianNB\n",
    "from sklearn.metrics import accuracy_score\n",
    "from sklearn.ensemble import RandomForestClassifier\n",
    "from sklearn.tree import DecisionTreeClassifier\n",
    "from sklearn.linear_model import LogisticRegression\n",
    "from sklearn.metrics import accuracy_score, precision_score, recall_score, f1_score"
   ]
  },
  {
   "cell_type": "code",
   "execution_count": 21,
   "id": "dfbf39ea",
   "metadata": {
    "execution": {
     "iopub.execute_input": "2024-12-02T20:28:46.883570Z",
     "iopub.status.busy": "2024-12-02T20:28:46.882569Z",
     "iopub.status.idle": "2024-12-02T20:28:46.897967Z",
     "shell.execute_reply": "2024-12-02T20:28:46.896800Z",
     "shell.execute_reply.started": "2024-12-02T20:28:46.883514Z"
    },
    "papermill": {
     "duration": null,
     "end_time": null,
     "exception": null,
     "start_time": null,
     "status": "pending"
    },
    "tags": []
   },
   "outputs": [],
   "source": [
    "# Set up K-Fold Cross-Validation\n",
    "kf = KFold(n_splits=5, shuffle=True, random_state=42)"
   ]
  },
  {
   "cell_type": "code",
   "execution_count": 22,
   "id": "c1148b75",
   "metadata": {
    "execution": {
     "iopub.execute_input": "2024-12-02T20:28:46.899760Z",
     "iopub.status.busy": "2024-12-02T20:28:46.899333Z",
     "iopub.status.idle": "2024-12-02T20:28:46.912736Z",
     "shell.execute_reply": "2024-12-02T20:28:46.911590Z",
     "shell.execute_reply.started": "2024-12-02T20:28:46.899725Z"
    },
    "papermill": {
     "duration": null,
     "end_time": null,
     "exception": null,
     "start_time": null,
     "status": "pending"
    },
    "tags": []
   },
   "outputs": [],
   "source": [
    "\n",
    "# Split data into train and test sets\n",
    "X_train, X_test, y_train, y_test = train_test_split(X, y, test_size=0.2, random_state=42)"
   ]
  },
  {
   "cell_type": "code",
   "execution_count": 23,
   "id": "5903c970",
   "metadata": {},
   "outputs": [],
   "source": [
    "def evaluate_model(model, X_train, y_train, X_test, y_test):\n",
    "    model.fit(X_train, y_train)\n",
    "    y_pred = model.predict(X_test)\n",
    "    accuracy = accuracy_score(y_test, y_pred)\n",
    "    precision = precision_score(y_test, y_pred, average='weighted', zero_division=0)\n",
    "    recall = recall_score(y_test, y_pred, average='weighted', zero_division=0)\n",
    "    f1 = f1_score(y_test, y_pred, average='weighted', zero_division=0)\n",
    "    return accuracy, precision, recall, f1\n",
    "\n",
    "# Initialize models\n",
    "models = {\n",
    "    \"KNN\": KNeighborsClassifier(n_neighbors=2),\n",
    "    \"Random Forest\": RandomForestClassifier(n_estimators=1, random_state=42),\n",
    "    \"Decision Tree\": DecisionTreeClassifier(criterion=\"gini\", max_depth=4, random_state=42),\n",
    "    \"Logistic Regression\": LogisticRegression(max_iter=1000, random_state=42)\n",
    "}"
   ]
  },
  {
   "cell_type": "code",
   "execution_count": 24,
   "id": "4c5e185c",
   "metadata": {},
   "outputs": [
    {
     "name": "stdout",
     "output_type": "stream",
     "text": [
      "KNN - Accuracy: 1.00, Precision: 1.00, Recall: 1.00, F1-Score: 1.00\n",
      "Random Forest - Accuracy: 0.88, Precision: 0.88, Recall: 0.88, F1-Score: 0.88\n",
      "Decision Tree - Accuracy: 0.85, Precision: 0.89, Recall: 0.85, F1-Score: 0.84\n",
      "Logistic Regression - Accuracy: 0.39, Precision: 0.15, Recall: 0.39, F1-Score: 0.22\n"
     ]
    },
    {
     "data": {
      "image/png": "[encoded data removed]",
      "text/plain": [
       "<Figure size 1200x800 with 4 Axes>"
      ]
     },
     "metadata": {},
     "output_type": "display_data"
    }
   ],
   "source": [
    "model_scores = {}\n",
    "for model_name, model in models.items():\n",
    "    accuracy, precision, recall, f1 = evaluate_model(model, X_train, y_train, X_test, y_test)\n",
    "    model_scores[model_name] = {\n",
    "        \"Accuracy\": accuracy,\n",
    "        \"Precision\": precision,\n",
    "        \"Recall\": recall,\n",
    "        \"F1-Score\": f1\n",
    "    }\n",
    "    print(f\"{model_name} - Accuracy: {accuracy:.2f}, Precision: {precision:.2f}, Recall: {recall:.2f}, F1-Score: {f1:.2f}\")\n",
    "\n",
    "# Plot the results\n",
    "plt.figure(figsize=(12, 8))\n",
    "metrics = [\"Accuracy\", \"Precision\", \"Recall\", \"F1-Score\"]\n",
    "for i, metric in enumerate(metrics, 1):\n",
    "    plt.subplot(2, 2, i)\n",
    "    plt.bar(model_scores.keys(), [model_scores[model][metric] for model in model_scores], color=['skyblue', 'orange', 'green', 'purple'])\n",
    "    plt.title(f'Model Performance Comparison ({metric})')\n",
    "    plt.xlabel('Model')\n",
    "    plt.ylabel(metric)\n",
    "    plt.ylim(0, 1)\n",
    "    plt.xticks(rotation=0)\n",
    "plt.tight_layout()\n",
    "plt.show()"
   ]
  },
  {
   "cell_type": "code",
   "execution_count": null,
   "id": "45012002",
   "metadata": {
    "execution": {
     "iopub.execute_input": "2024-12-02T20:28:46.925219Z",
     "iopub.status.busy": "2024-12-02T20:28:46.924851Z",
     "iopub.status.idle": "2024-12-02T20:28:47.020093Z",
     "shell.execute_reply": "2024-12-02T20:28:47.018939Z",
     "shell.execute_reply.started": "2024-12-02T20:28:46.925184Z"
    },
    "papermill": {
     "duration": null,
     "end_time": null,
     "exception": null,
     "start_time": null,
     "status": "pending"
    },
    "tags": []
   },
   "outputs": [
    {
     "name": "stdout",
     "output_type": "stream",
     "text": [
      "KNN Test Accuracy: 100.00%\n"
     ]
    }
   ],
   "source": [
    "knn = KNeighborsClassifier(n_neighbors=2)\n",
    "# knn_model = evaluate_model(knn, X_train, y_train, kf)\n",
    "knn_model = knn.fit(X_train,y_train)\n",
    "knn_pred = knn.predict(X_test)\n",
    "print(f\"KNN Test Accuracy: {accuracy_score(y_test, knn_pred) * 100:.2f}%\")"
   ]
  },
  {
   "cell_type": "code",
   "execution_count": null,
   "id": "b6028e7a",
   "metadata": {
    "execution": {
     "iopub.execute_input": "2024-12-02T20:28:47.021820Z",
     "iopub.status.busy": "2024-12-02T20:28:47.021372Z",
     "iopub.status.idle": "2024-12-02T20:28:47.050496Z",
     "shell.execute_reply": "2024-12-02T20:28:47.049297Z",
     "shell.execute_reply.started": "2024-12-02T20:28:47.021784Z"
    },
    "papermill": {
     "duration": null,
     "end_time": null,
     "exception": null,
     "start_time": null,
     "status": "pending"
    },
    "tags": []
   },
   "outputs": [
    {
     "name": "stdout",
     "output_type": "stream",
     "text": [
      "0.8759286775631501\n"
     ]
    }
   ],
   "source": [
    "rf = RandomForestClassifier(n_estimators=1, random_state=42)\n",
    "# rf_model = evaluate_model(rf, X_train, y_train, kf)\n",
    "rf_model = rf.fit(X_train,y_train)\n",
    "rf_pred = rf.predict(X_test)\n",
    "print(accuracy_score(y_test, rf_pred))"
   ]
  },
  {
   "cell_type": "code",
   "execution_count": null,
   "id": "69733bac",
   "metadata": {
    "execution": {
     "iopub.execute_input": "2024-12-02T20:28:47.052198Z",
     "iopub.status.busy": "2024-12-02T20:28:47.051868Z",
     "iopub.status.idle": "2024-12-02T20:28:47.104234Z",
     "shell.execute_reply": "2024-12-02T20:28:47.103095Z",
     "shell.execute_reply.started": "2024-12-02T20:28:47.052167Z"
    },
    "papermill": {
     "duration": null,
     "end_time": null,
     "exception": null,
     "start_time": null,
     "status": "pending"
    },
    "tags": []
   },
   "outputs": [
    {
     "ename": "TypeError",
     "evalue": "evaluate_model() missing 1 required positional argument: 'y_test'",
     "output_type": "error",
     "traceback": [
      "\u001b[1;31m---------------------------------------------------------------------------\u001b[0m",
      "\u001b[1;31mTypeError\u001b[0m                                 Traceback (most recent call last)",
      "Cell \u001b[1;32mIn[33], line 2\u001b[0m\n\u001b[0;32m      1\u001b[0m nb \u001b[38;5;241m=\u001b[39m GaussianNB()\n\u001b[1;32m----> 2\u001b[0m nb_model \u001b[38;5;241m=\u001b[39m evaluate_model(nb, X_train, y_train, y_test)\n\u001b[0;32m      3\u001b[0m \u001b[38;5;66;03m# nb.fit(X_train,y_train)\u001b[39;00m\n\u001b[0;32m      4\u001b[0m nb_pred \u001b[38;5;241m=\u001b[39m nb_model\u001b[38;5;241m.\u001b[39mpredict(X_test)\n",
      "\u001b[1;31mTypeError\u001b[0m: evaluate_model() missing 1 required positional argument: 'y_test'"
     ]
    }
   ],
   "source": [
    "nb = GaussianNB()\n",
    "nb_model = evaluate_model(nb, X_train, y_train, y_test)\n",
    "# nb.fit(X_train,y_train)\n",
    "nb_pred = nb_model.predict(X_test)\n",
    "print(accuracy_score(y_test, nb_pred))"
   ]
  },
  {
   "cell_type": "code",
   "execution_count": null,
   "id": "7d8e64f5",
   "metadata": {
    "execution": {
     "iopub.execute_input": "2024-12-02T20:28:47.132808Z",
     "iopub.status.busy": "2024-12-02T20:28:47.132405Z",
     "iopub.status.idle": "2024-12-02T20:28:47.176573Z",
     "shell.execute_reply": "2024-12-02T20:28:47.175091Z",
     "shell.execute_reply.started": "2024-12-02T20:28:47.132773Z"
    },
    "papermill": {
     "duration": null,
     "end_time": null,
     "exception": null,
     "start_time": null,
     "status": "pending"
    },
    "tags": []
   },
   "outputs": [],
   "source": [
    "print(\"\\nClassification Report:\")\n",
    "print(classification_report(y_test, y_pred, target_names=label_encoder.classes))\n",
    "\n",
    "cm = confusionmatrix(y_test, y_pred)\n",
    "plt.figure(figsize=(8, 6))\n",
    "sns.heatmap(cm, annot=True, fmt='d', cmap='Blues', xticklabels=label_encoder.classes, yticklabels=labelencoder.classes)\n",
    "plt.title('Confusion Matrix')\n",
    "plt.xlabel('Predicted Label')\n",
    "plt.ylabel('True Label')\n",
    "plt.show()"
   ]
  },
  {
   "cell_type": "code",
   "execution_count": null,
   "id": "04926a60",
   "metadata": {
    "execution": {
     "iopub.status.busy": "2024-12-02T20:28:47.186626Z",
     "iopub.status.idle": "2024-12-02T20:28:47.187215Z",
     "shell.execute_reply": "2024-12-02T20:28:47.186950Z",
     "shell.execute_reply.started": "2024-12-02T20:28:47.186920Z"
    },
    "papermill": {
     "duration": null,
     "end_time": null,
     "exception": null,
     "start_time": null,
     "status": "pending"
    },
    "tags": []
   },
   "outputs": [],
   "source": [
    "from sklearn.ensemble import RandomForestClassifier\n",
    "from sklearn.metrics import accuracy_score\n",
    "\n",
    "def evaluate_random_forest(X_train, y_train, X_test, y_test, n_estimators=1, random_state=42):\n",
    "    rf_model = RandomForestClassifier(n_estimators=n_estimators, random_state=random_state)\n",
    "    rf_model.fit(X_train, y_train)\n",
    "    rf_pred = rf_model.predict(X_test)\n",
    "    \n",
    "    accuracy = accuracy_score(y_test, rf_pred)\n",
    "    print(f\"Random Forest Model Accuracy: {accuracy:.2f}\")\n",
    "    return accuracy\n"
   ]
  },
  {
   "cell_type": "code",
   "execution_count": null,
   "id": "e25f54ef",
   "metadata": {
    "execution": {
     "iopub.status.busy": "2024-12-02T20:28:47.188484Z",
     "iopub.status.idle": "2024-12-02T20:28:47.189047Z",
     "shell.execute_reply": "2024-12-02T20:28:47.188780Z",
     "shell.execute_reply.started": "2024-12-02T20:28:47.188752Z"
    },
    "papermill": {
     "duration": null,
     "end_time": null,
     "exception": null,
     "start_time": null,
     "status": "pending"
    },
    "tags": []
   },
   "outputs": [],
   "source": [
    "accuracy = evaluate_random_forest(X_train, y_train, X_test, y_test, n_estimators=1, random_state=42)"
   ]
  }
 ],
 "metadata": {
  "kaggle": {
   "accelerator": "none",
   "dataSources": [
    {
     "datasetId": 2238282,
     "sourceId": 3748585,
     "sourceType": "datasetVersion"
    }
   ],
   "dockerImageVersionId": 30786,
   "isGpuEnabled": false,
   "isInternetEnabled": true,
   "language": "python",
   "sourceType": "notebook"
  },
  "kernelspec": {
   "display_name": "base",
   "language": "python",
   "name": "python3"
  },
  "language_info": {
   "codemirror_mode": {
    "name": "ipython",
    "version": 3
   },
   "file_extension": ".py",
   "mimetype": "text/x-python",
   "name": "python",
   "nbconvert_exporter": "python",
   "pygments_lexer": "ipython3",
   "version": "3.11.7"
  },
  "papermill": {
   "default_parameters": {},
   "duration": 4.461198,
   "end_time": "2024-12-02T20:57:04.400468",
   "environment_variables": {},
   "exception": true,
   "input_path": "__notebook__.ipynb",
   "output_path": "__notebook__.ipynb",
   "parameters": {},
   "start_time": "2024-12-02T20:56:59.939270",
   "version": "2.6.0"
  }
 },
 "nbformat": 4,
 "nbformat_minor": 5
}
